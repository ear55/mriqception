{
 "cells": [
  {
   "cell_type": "code",
   "execution_count": null,
   "metadata": {},
   "outputs": [],
   "source": [
    "import pandas as pd\n",
    "import plotly as "
   ]
  },
  {
   "cell_type": "code",
   "execution_count": 1,
   "metadata": {},
   "outputs": [
    {
     "ename": "NameError",
     "evalue": "name 'pd' is not defined",
     "output_type": "error",
     "traceback": [
      "\u001b[0;31m---------------------------------------------------------------------------\u001b[0m",
      "\u001b[0;31mNameError\u001b[0m                                 Traceback (most recent call last)",
      "\u001b[0;32m<ipython-input-1-0f4afced3ec1>\u001b[0m in \u001b[0;36m<module>\u001b[0;34m\u001b[0m\n\u001b[0;32m----> 1\u001b[0;31m \u001b[0mdata\u001b[0m \u001b[0;34m=\u001b[0m \u001b[0mpd\u001b[0m\u001b[0;34m.\u001b[0m\u001b[0mread_csv\u001b[0m\u001b[0;34m(\u001b[0m\u001b[0;34m'/users/estee/Desktop/MRIQCeption/all_data.csv'\u001b[0m\u001b[0;34m)\u001b[0m\u001b[0;34m\u001b[0m\u001b[0;34m\u001b[0m\u001b[0m\n\u001b[0m\u001b[1;32m      2\u001b[0m \u001b[0mvariables\u001b[0m\u001b[0;34m=\u001b[0m\u001b[0mdata\u001b[0m\u001b[0;34m.\u001b[0m\u001b[0mcolumns\u001b[0m\u001b[0;34m\u001b[0m\u001b[0;34m\u001b[0m\u001b[0m\n",
      "\u001b[0;31mNameError\u001b[0m: name 'pd' is not defined"
     ]
    }
   ],
   "source": [
    "data = pd.read_csv('/users/estee/Desktop/MRIQCeption/all_data.csv')\n",
    "variables=data.columns"
   ]
  },
  {
   "cell_type": "code",
   "execution_count": null,
   "metadata": {},
   "outputs": [],
   "source": [
    "#variables = [\"var1\", \"var2\", \"var3\"]\n",
    "\n",
    "#import dataframe\n",
    "data = pd.read_csv('/users/estee/Desktop/MRIQCeption/all_data.csv')\n",
    "#create an index/array of column names\n",
    "variables=data.columns\n",
    "\n",
    "#set and remove the names of variables we are not going to graph\n",
    "vars_nograph=[\"bids_name\", \"group\"]\n",
    "vars_graph=variables.drop(vars_nograph)\n",
    "\n",
    "#create dictionary of descriptions of variables\n",
    "descriptions = {\n",
    "        \"var1\":\"var1 measures motion.  Low number is good!\",\n",
    "        \"var2\":\"var2 measures SNR.  High number is good!\",\n",
    "        \"var3\":\"var3 measures how great the participant is.  High number is good!\"\n",
    "\n",
    "}\n",
    "#print(descriptions)\n",
    "\n",
    "#vars_graph\n"
   ]
  },
  {
   "cell_type": "code",
   "execution_count": null,
   "metadata": {},
   "outputs": [],
   "source": [
    "import matplotlib.pyplot as plt\n",
    "def my_function(df, variables, dictionary):\n",
    "  for x in variables:\n",
    "        #print figure\n",
    "        fig_go = go.Figure(go.Violin(y=data[x], box_visible=True, line_color='black',\n",
    "                               meanline_visible=True, fillcolor='lightseagreen', opacity=0.6,\n",
    "                               x0='value', pointpos=-.9))\n",
    "        fig_go.show()\n",
    "        #print description of figure\n",
    "        print(dictionary.get(x))\n",
    "\n",
    "        \n",
    "my_function(data,vars_graph, descriptions)"
   ]
  }
 ],
 "metadata": {
  "kernelspec": {
   "display_name": "Python 3",
   "language": "python",
   "name": "python3"
  },
  "language_info": {
   "codemirror_mode": {
    "name": "ipython",
    "version": 3
   },
   "file_extension": ".py",
   "mimetype": "text/x-python",
   "name": "python",
   "nbconvert_exporter": "python",
   "pygments_lexer": "ipython3",
   "version": "3.7.3"
  }
 },
 "nbformat": 4,
 "nbformat_minor": 2
}
